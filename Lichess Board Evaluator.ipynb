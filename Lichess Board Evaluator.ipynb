{
 "cells": [
  {
   "cell_type": "markdown",
   "id": "9a92843b",
   "metadata": {},
   "source": [
    "# Use Python to evaluate chess positions in under two seconds."
   ]
  },
  {
   "cell_type": "markdown",
   "id": "6ff92e18",
   "metadata": {},
   "source": [
    "I often watch chess games on lichess.org being played by Masters and Grandmasters. The level of these chess games and players is beyond my wildest dreams, and I often wonder who has the advantage. Rather than analyzing games afterward, I generally want to analyze them in real-time. So, I sought out a program to do this but found none. So, here it is!\n",
    "\n",
    "The Python program below is optimized for lichess.org. But you can modify it for Chess.com or any chess website. It works by taking a screenshot of the chessboard, detecting where each piece is positioned on the board, drawing the chessboard using the python Chess library, then providing an evaluation and best move for the given position using the Stockfish engine.\n",
    "\n",
    "**<center>The code below is intended for learning. Please do not use it to cheat.</center>**"
   ]
  },
  {
   "cell_type": "markdown",
   "id": "f6aaad6f",
   "metadata": {},
   "source": [
    "#### Step 1: Importing required modules.\n",
    "I used the OpenCV (Open Source Computer Vision Library) and NumPy libraries to screenshot the chessboard, visualize the chessboard squares, and compare differences between images. I encourage you to learn more about OpenCV if you are unfamiliar with it. Next, I used PIL (pillow) library to modify images (e.g., cropping). The CompareImages module uses OpenCV to find and highlight the differences between the two images. I slightly modified the code from CodeDeepAI, which is HERE, and you can download the module from my GitHub page. The mss library is a fast and easy way to grab a screenshot of the monitor and save the image as a PNG file. Next, I used the chess library for move generation, validation, and visualization. Finally, I used the stockfish engine for evaluating chess positions and identifying the best moves. You can download the Stockfish engine from their website. I am using Stockfish 14.1 (AVX2) in Windows for this project."
   ]
  },
  {
   "cell_type": "code",
   "execution_count": 1,
   "id": "b74be1ec",
   "metadata": {},
   "outputs": [],
   "source": [
    "import cv2  # OpenCV library \n",
    "import numpy as np\n",
    "import time\n",
    "\n",
    "from PIL import Image # Pillow library will be used to open and crop images\n",
    "from CompareImages import compare_images  # This code compares and detects differences \n",
    "                                          # between images.\n",
    "from mss import mss # will be used for grabbing screenshots\n",
    "sct=mss() \n",
    "\n",
    "import chess #used for chess baord visualization, move generation, and move validation.\n",
    "from stockfish import Stockfish # The Stockfish chess engine will be used to evaluate \n",
    "                                # a given position and identify the top moves.\n",
    "stockfish = Stockfish(r\"Enter Your Path Here//stockfish.exe\")"
   ]
  },
  {
   "cell_type": "markdown",
   "id": "42f47a2e",
   "metadata": {},
   "source": [
    "#### Step 2: Ensure the board is captured correctly.\n",
    "\n",
    "Next, I created a function to locate the chessboard on the monitor. The function takes three inputs: the X- and Y-coordinates of the upper left corner of the chessboard and the width of each square on the chessboard. On my monitor, the X- and Y-coordinates were at pixels (585, 163), and the width of each square was 90 pixels (Image 1). You will need to configure these inputs for your monitor.\n",
    "\n",
    "When you run the “capture_board” function, it will open a window that shows a live view of your monitor based on the input parameters. It will also draw an 8x8 grid. Ensure the blue boxes align closely with the chessboard squares (Image 2)."
   ]
  },
  {
   "cell_type": "code",
   "execution_count": 2,
   "id": "c4297a16",
   "metadata": {},
   "outputs": [],
   "source": [
    "def capture_board(y_coords=163,x_coords=585, box_widths=90):\n",
    "    \n",
    "    global y_coord, x_coord, box_width\n",
    "    y_coord, x_coord, box_width = y_coords, x_coords, box_widths\n",
    "    \n",
    "    \n",
    "    '''\n",
    "    This functions grabs a screenshot of your monitor based on the specified parameters. \n",
    "    It then draws an 8x8 grid based on the specified box width parameter. Make sure that \n",
    "    each blue square aligns closely with the chessboard squares.\n",
    "    \n",
    "    x_coord: This x coordinate is for the top left corner of the board. You will need to \n",
    "    modify it for your monitor.\n",
    "    \n",
    "    y_coord: This y coordinate is for the top left corner of the board. You will need to \n",
    "    modify it for your monitor.\n",
    "    \n",
    "    box_width: This is the width of each square on the chessboard. You may need to modify \n",
    "    it based on the size of your board.\n",
    "    '''\n",
    "    with mss() as sct:       \n",
    "        monitor = {\"top\": y_coord, \"left\": x_coord, \n",
    "                   \"width\": (box_width)*8, \"height\": box_width*8}\n",
    "\n",
    "        while True:\n",
    "            screenshot = np.array(sct.grab(monitor))\n",
    "\n",
    "            for i in range(1,8):\n",
    "                # Draw 7 vericle blue lines with thickness of 3 px\n",
    "                cv2.line(screenshot,((box_width)*i,0),((box_width)*i,\n",
    "                                                       y_coord+(box_width)*8),\n",
    "                         (255,0,0),3)\n",
    "\n",
    "                # Draw 7 horizontal blue lines with thickness of 3 px\n",
    "                cv2.line(screenshot,(0,(box_width)*i),(x_coord+(box_width)*8,\n",
    "                                                       (box_width)*i),\n",
    "                         (255,0,0),3)\n",
    "\n",
    "            cv2.imshow('Chess Board', screenshot)\n",
    "            if cv2.waitKey(1) == ord('q'):   # press any key to quit.\n",
    "                cv2.destroyAllWindows()\n",
    "                break\n",
    "\n",
    "## Run the above function\n",
    "capture_board(y_coords=163,x_coords=585, box_widths=90)"
   ]
  },
  {
   "cell_type": "markdown",
   "id": "c8700dfe",
   "metadata": {},
   "source": [
    "#### Step 3: Create a function that takes a screenshot of the chessboard and crops it according to the inputs above.\n",
    "\n",
    "In the third step, I created a function that takes a single screenshot of the chessboard position based on the inputs from the capture_board function. This screenshot will be saved in the local directory and processed in the upcoming steps."
   ]
  },
  {
   "cell_type": "code",
   "execution_count": 3,
   "id": "cbf24f99",
   "metadata": {},
   "outputs": [],
   "source": [
    "def take_screenshot(filename):\n",
    "    ## Screen shot and then crop image\n",
    "    filename1 = sct.shot(output=filename)\n",
    "    im = Image.open(filename1)\n",
    "                 # (left, upper, right         , lower         )\n",
    "    im1 = im.crop(( x_coord  ,    y_coord, x_coord+box_width*8, y_coord+box_width*8))\n",
    "    \n",
    "    # Saves image in local directory\n",
    "    im1.save(filename1)"
   ]
  },
  {
   "cell_type": "markdown",
   "id": "0aac2f95",
   "metadata": {},
   "source": [
    "#### Step 4 (optional): Identify if the board is flipped.\n",
    "\n",
    "The function below detects whether the board is flipped. It works by detecting which rook (black or white) is in the upper left corner of the chessboard. This function may not work correctly if the game starts and the rooks have moved from their original positions. You can override this function by uncommenting “is_board_flipped=True” when the board is flipped or “is_board_flipped=False” when the board is not flipped (i.e., white is on the bottom of the chessboard)."
   ]
  },
  {
   "cell_type": "code",
   "execution_count": 4,
   "id": "449021ea",
   "metadata": {},
   "outputs": [
    {
     "name": "stdout",
     "output_type": "stream",
     "text": [
      "Is the board flipped? False\n"
     ]
    }
   ],
   "source": [
    "def flipped_board():\n",
    "    # Take a screenshot of the chessboard and save the image in local library.\n",
    "    take_screenshot('InitialBoard.png')\n",
    "    im = Image.open('InitialBoard.png')\n",
    "    \n",
    "    # Crop the upper left-hand sqaure and process it.\n",
    "    im1 = im.crop((5, 5, 70, 70))\n",
    "    im1.save('CurrentRook.png')\n",
    "    image = cv2.imread('CurrentRook.png')\n",
    "    gray = cv2.cvtColor(image, cv2.COLOR_BGR2GRAY)\n",
    "    \n",
    "    # Assume the rook is white if the upper left-hand square has more than 300 white pixels.\n",
    "    # otherwise, the rook is black and the board is not flipped.\n",
    "    is_board_flipped=True if np.sum(gray==255)>300 else False\n",
    "    return is_board_flipped\n",
    "\n",
    "is_board_flipped=flipped_board()\n",
    "\n",
    "# is_board_flipped=True\n",
    "# is_board_flipped=False\n",
    "\n",
    "print('Is the board flipped?', is_board_flipped)"
   ]
  },
  {
   "cell_type": "markdown",
   "id": "5e4704c4",
   "metadata": {},
   "source": [
    "#### Step 5: Orientation of the chessboard.\n",
    "\n",
    "The array below will be arranged based on whether the board is flipped. I use the array in the next step for detecting which piece is on which square on the chessboard. If the board is not flipped, the square A1 will be in the lower left-hand corner; otherwise, the A1 square will be in the upper right-hand corner."
   ]
  },
  {
   "cell_type": "code",
   "execution_count": 5,
   "id": "dcad2403",
   "metadata": {
    "scrolled": true
   },
   "outputs": [
    {
     "data": {
      "text/plain": [
       "[[56, 57, 58, 59, 60, 61, 62, 63],\n",
       " [48, 49, 50, 51, 52, 53, 54, 55],\n",
       " [40, 41, 42, 43, 44, 45, 46, 47],\n",
       " [32, 33, 34, 35, 36, 37, 38, 39],\n",
       " [24, 25, 26, 27, 28, 29, 30, 31],\n",
       " [16, 17, 18, 19, 20, 21, 22, 23],\n",
       " [8, 9, 10, 11, 12, 13, 14, 15],\n",
       " [0, 1, 2, 3, 4, 5, 6, 7]]"
      ]
     },
     "execution_count": 5,
     "metadata": {},
     "output_type": "execute_result"
    }
   ],
   "source": [
    "myList=[list(range(56,64)),\n",
    " list(range(48,56)),\n",
    " list(range(40,48)),\n",
    " list(range(32,40)),\n",
    " list(range(24,32)),\n",
    " list(range(16,24)),   \n",
    " list(range(8,16)),\n",
    " list(range(0,8))]\n",
    "\n",
    "if is_board_flipped:\n",
    "    myList.reverse()\n",
    "    for i in range(8):\n",
    "        myList[i].reverse()\n",
    "myList"
   ]
  },
  {
   "cell_type": "markdown",
   "id": "02d78aaf",
   "metadata": {},
   "source": [
    "#### Step 6: Identify chess pieces.\n",
    "\n",
    "Only run this step once (assuming the size of the chessboard does not change between games). You can remove this section once you have identified the number of pixels per chess piece.\n",
    "\n",
    "I wanted to find an easy, efficient, and consistent way to detect and identify chess pieces. Counting the number of black/white pixels on each chess square worked well.\n",
    "\n",
    "The following code set arranges black and white pieces by the number of black and white pixels that make up each piece; note I did this step manually, but the order should be the same for you. You will notice the black king has the fewest number of black pixels, and the black knight has the largest number of black pixels. The white bishop has the smallest number of white pixels, and the white knight has the largest number of white pixels. The BPieceType and WPieceType align with the piece type assigned by the Chess library. You can read more about it in the Python Chess docs.\n",
    "\n",
    "<u><b> Piece Types </b></u>\n",
    "- Pawn = 1\n",
    "- Knight = 2\n",
    "- Bisphop = 3\n",
    "- Rook = 4\n",
    "- Queen = 5\n",
    "- King = 6"
   ]
  },
  {
   "cell_type": "code",
   "execution_count": 6,
   "id": "72e94108",
   "metadata": {},
   "outputs": [],
   "source": [
    "# The pieces are arranged by the total number of black pixels. The black king has \n",
    "# the fewest number of black pixels, and the black knight has the largest number \n",
    "# of black pixels.\n",
    "BPieces=['BlackKing','BlackBishop','BlackPawn','BlackRook','BlackQueen','BlackKnight']\n",
    "BPieceType=[6,3,1,4,5,2]\n",
    "\n",
    "# The pieces are arranged by the total number of white pixels. The white bishop has \n",
    "# the smallest number of white pixels, and the white knight has the largest number \n",
    "# of white pixels.\n",
    "WPieces=['WhiteBishop','WhiteQueen','WhiteRook','WhitePawn','WhiteKing','WhiteKnight']\n",
    "WPieceType=[3,5,4,1,6,2]"
   ]
  },
  {
   "cell_type": "markdown",
   "id": "406f82d4",
   "metadata": {},
   "source": [
    "The <i>for loop</i> below will crop and save 64 images from the chessboard image provided. Each of the 64 images will align with a specific square based on the orientation specified in <b>Step 5</b>. Make sure you create a “Pieces” folder inside your main directory; the cropped images will be saved in this folder."
   ]
  },
  {
   "cell_type": "code",
   "execution_count": 7,
   "id": "59f3b218",
   "metadata": {},
   "outputs": [],
   "source": [
    "BlackPixelList, WhitePixelList=[],[]\n",
    "nn=0;\n",
    "n=0\n",
    "\n",
    "# Take a screenshot of the entire chessboard and save the image\n",
    "take_screenshot('image1.png')\n",
    "\n",
    "#Read the chessboard into memory\n",
    "image = cv2.imread('image1.png')\n",
    "\n",
    "# Convert the color image to a gray scale image and save it.\n",
    "gray = cv2.cvtColor(image, cv2.COLOR_BGR2GRAY)\n",
    "cv2.imwrite('gray image.png', gray)\n",
    "im = Image.open('gray image.png')\n",
    "\n",
    "\n",
    "# Crop each squre of the chess board and save the 64 gray scale images. Each image \n",
    "# will align with a specific square on the chessboard.\n",
    "for i in range(8):\n",
    "    for j in range(8):\n",
    "\n",
    "        im1=im.crop(\n",
    "            (j*(box_width), \n",
    "             i*(box_width), \n",
    "             (j+1)*(box_width-0), \n",
    "             (i+1)*(box_width-0)))\n",
    "        im1.save('pieces//'+str(nn)+'.png')\n",
    "        n+=1        \n",
    "\n",
    "        n=myList[i][j]\n",
    "        image = cv2.imread('pieces//'+str(nn)+'.png')\n",
    "        \n",
    "        # count the number of black pixels per image\n",
    "        BlackPiece=np.sum(image==0)\n",
    "        BlackPixelList.append(BlackPiece)\n",
    "        \n",
    "        # count the number of white pixels per image\n",
    "        WhitePiece=np.sum(image==255)\n",
    "        WhitePixelList.append(WhitePiece)\n",
    "        nn+=1"
   ]
  },
  {
   "cell_type": "markdown",
   "id": "11a96bb8",
   "metadata": {},
   "source": [
    "The code below aims to identify the number of black/white pixels for each chess piece. I have already created a list with the number of black and white pixels from above.\n",
    "\n",
    "For each color, I do the following:\n",
    "- keep unique pixel values\n",
    "- sort the list in ascending order and keep the six largest pixel values\n",
    "- each pixel value will align to the pieces specified in BPieces/WPieces"
   ]
  },
  {
   "cell_type": "code",
   "execution_count": 8,
   "id": "ef95ab18",
   "metadata": {},
   "outputs": [],
   "source": [
    "# Filter out values equal 0 and keep unique pixel values\n",
    "# sort the list in ascending order\n",
    "# keep the six largest pixel values\n",
    "BlackPixelList=set(list(filter(lambda x: x > 0, BlackPixelList)))\n",
    "BlackPixelList=list(BlackPixelList)\n",
    "BlackPixelList.sort()\n",
    "BlackPixelList=BlackPixelList[-6:]\n",
    "\n",
    "WhitePixelList=set(list(filter(lambda x: x > 0, WhitePixelList)))\n",
    "WhitePixelList=list(WhitePixelList)\n",
    "WhitePixelList.sort()\n",
    "WhitePixelList=WhitePixelList[-6:]\n",
    "\n",
    "# Create a dictionary for each color and assign \n",
    "# pixel value to each chess piece, piece type,\n",
    "# and piece color (False=Black, True=White).\n",
    "BlackPieces={}\n",
    "for i, val in enumerate(BPieces):\n",
    "    BlackPieces[val] = (BlackPixelList[i],BPieceType[i],False)\n",
    "\n",
    "WhitePieces={}\n",
    "for i, val in enumerate(WPieces):\n",
    "    WhitePieces[val] = (WhitePixelList[i],WPieceType[i],True)"
   ]
  },
  {
   "cell_type": "code",
   "execution_count": 9,
   "id": "7475ebe9",
   "metadata": {},
   "outputs": [
    {
     "data": {
      "text/plain": [
       "{'BlackKing': (5028, 6, False),\n",
       " 'BlackBishop': (5052, 3, False),\n",
       " 'BlackPawn': (5679, 1, False),\n",
       " 'BlackRook': (6489, 4, False),\n",
       " 'BlackQueen': (6495, 5, False),\n",
       " 'BlackKnight': (7623, 2, False)}"
      ]
     },
     "execution_count": 9,
     "metadata": {},
     "output_type": "execute_result"
    }
   ],
   "source": [
    "BlackPieces"
   ]
  },
  {
   "cell_type": "code",
   "execution_count": 10,
   "id": "29bb509d",
   "metadata": {},
   "outputs": [
    {
     "data": {
      "text/plain": [
       "{'WhiteBishop': (2520, 3, True),\n",
       " 'WhiteQueen': (3039, 5, True),\n",
       " 'WhiteRook': (3741, 4, True),\n",
       " 'WhitePawn': (3933, 1, True),\n",
       " 'WhiteKing': (4410, 6, True),\n",
       " 'WhiteKnight': (6057, 2, True)}"
      ]
     },
     "execution_count": 10,
     "metadata": {},
     "output_type": "execute_result"
    }
   ],
   "source": [
    "WhitePieces"
   ]
  },
  {
   "cell_type": "markdown",
   "id": "8c39a210",
   "metadata": {},
   "source": [
    "#### Step 7: Assign the number of pixels to each chess piece.\n",
    "\n",
    "If this is the first time running the code, use the outputs from Step 6 to assign the number of black pixels for “BlackPieces” and the number of white pixels for the “WhitePieces.” The code below is an example given my monitor settings."
   ]
  },
  {
   "cell_type": "code",
   "execution_count": 11,
   "id": "e3d57a9f",
   "metadata": {},
   "outputs": [],
   "source": [
    "BlackPieces=\\\n",
    "{'BlackKing': (5028, 6, False),\n",
    " 'BlackBishop': (5052, 3, False),\n",
    " 'BlackPawn': (5679, 1, False),\n",
    " 'BlackRook': (6489, 4, False),\n",
    " 'BlackQueen': (6495, 5, False),\n",
    " 'BlackKnight': (7623, 2, False)}\n",
    "\n",
    "WhitePieces=\\\n",
    "{'WhiteBishop': (2520, 3, True),\n",
    " 'WhiteQueen': (3039, 5, True),\n",
    " 'WhiteRook': (3741, 4, True),\n",
    " 'WhitePawn': (3933, 1, True),\n",
    " 'WhiteKing': (4410, 6, True),\n",
    " 'WhiteKnight': (6057, 2, True)}\n",
    "\n",
    "BlackPixelValues=[i[0] for i in list(BlackPieces.values())]\n",
    "WhitePixelValues=[i[0] for i in list(WhitePieces.values())]"
   ]
  },
  {
   "cell_type": "markdown",
   "id": "3bfe901c",
   "metadata": {},
   "source": [
    "#### Step 8: Set up a function to evaluate the board.\n",
    "\n",
    "We’ve done all the set-up steps, and this is where the magic happens. We first start by setting up stockfish to be rated at 3000 ELO and set the depth to be 15. You can go up to a depth of 26, but that would significantly increase processing time. We then create the “evaluate_position” function. This function will:\n",
    "\n",
    "- take a screenshot of the board\n",
    "- convert the color image to grayscale and save the images\n",
    "- identify where each chess piece is on the board and place those pieces in the appropriate position on the board using the chess library\n",
    "- assign the turn to the specified color. The default is white’s turn.\n",
    "- assign the FEN position in stockfish based on the position from the chess library\n",
    "- generate requested output\n"
   ]
  },
  {
   "cell_type": "code",
   "execution_count": 12,
   "id": "6497da8c",
   "metadata": {
    "scrolled": false
   },
   "outputs": [],
   "source": [
    "stockfish.set_elo_rating(3000)\n",
    "stockfish.set_depth(15)\n",
    "\n",
    "def evaluate_position(white_turn=True, board_flipped=is_board_flipped):\n",
    "    start_time = time.time()\n",
    "    # take a screenshot of the board\n",
    "    take_screenshot('image1.png')\n",
    "    image = cv2.imread('image1.png')\n",
    "    gray = cv2.cvtColor(image, cv2.COLOR_BGR2GRAY)\n",
    "    cv2.imwrite('gray image.png', gray)\n",
    "    im = Image.open('gray image.png')\n",
    "\n",
    "    # Set up the board from the Chess library\n",
    "    board = chess.Board()\n",
    "    # Remove all the pieces because they will be specified in the next step\n",
    "    board.clear()\n",
    "    # Set the turn to White to play, unless otherwise specified\n",
    "    board.turn = white_turn \n",
    "\n",
    "    nn=0;\n",
    "    n=0\n",
    "    for i in range(8):\n",
    "        for j in range(8):\n",
    "\n",
    "            im1=im.crop((j*(box_width), i*(box_width), (j+1)*(box_width-0), (i+1)*(box_width-0)))\n",
    "            im1.save('pieces//'+str(nn)+'.png')\n",
    "            n+=1        \n",
    "\n",
    "            n=myList[i][j]\n",
    "            # Read each cropped chess square and identify the chess piece and color.\n",
    "            image = cv2.imread('pieces//'+str(nn)+'.png')\n",
    "            BlackPiece=np.sum(image==0)\n",
    "            WhitePiece=np.sum(image==255)\n",
    "            res_val=(0,0,True)\n",
    "            if BlackPiece>min(BlackPixelValues)-50:\n",
    "                # Identify the chess piece based on he number of black pixels closest to the \n",
    "                # values from the BlackPieces dictionary.\n",
    "                col_key, res_val = min(BlackPieces.items(), key=lambda x: abs(BlackPiece - x[1][0]))\n",
    "            if WhitePiece>min(WhitePixelValues)-50:\n",
    "                # Identify the chess piece based on he number of white pixels closest to the \n",
    "                # values from the BlackPieces dictionary.\n",
    "                col_key, res_val = min(WhitePieces.items(), key=lambda x: abs(WhitePiece - x[1][0]))\n",
    "            # set the chess piece on the board based on it position, piece type, and color. \n",
    "            board.set_piece_at(n,piece=chess.Piece(piece_type=res_val[1],color=res_val[2]))\n",
    "            nn+=1\n",
    "\n",
    "    #create the FEN based on the current position \n",
    "    turn_fen=' w - - 1 0' if board.turn == True else ' b - - 0 1'\n",
    "    current_fen=board.board_fen()+turn_fen\n",
    "    # Assign the postion in Stockfish based on FEN\n",
    "    stockfish.set_fen_position(current_fen)\n",
    "    # Get the top moves\n",
    "    top_moves=stockfish.get_top_moves()\n",
    "    #Get the best move\n",
    "    my_move=top_moves[0]['Move']\n",
    "    # Move the chess piece based on the best move\n",
    "    board.push(chess.Move.from_uci(my_move))\n",
    "\n",
    "    #Create output\n",
    "    print('Time:',time.time()-start_time)\n",
    "    print('Best Move:', my_move)\n",
    "    print('Evaluation:', stockfish.get_evaluation())\n",
    "    print('Top moves:')\n",
    "    for i in top_moves:\n",
    "        print(i)\n",
    "\n",
    "    if board_flipped:\n",
    "        board.apply_transform(chess.flip_vertical)\n",
    "        board.apply_transform(chess.flip_horizontal)\n",
    "        display(board)\n",
    "    else:\n",
    "        display(board)"
   ]
  },
  {
   "cell_type": "markdown",
   "id": "9d8e54f6",
   "metadata": {},
   "source": [
    "#### Step 9: Run the chessboard evaluation.\n",
    "\n",
    "Congratulations, you are done! Specify whether it is white’s turn (set white_turn=True) or black’s turn (white_turn=False) and run the evaluation function. The function will output:\n",
    "\n",
    "- the time it took to run the function\n",
    "- the best-calculated move\n",
    "- an evaluation of the current position\n",
    "- the top moves\n",
    "- a visual of the current position and the next best move\n",
    "\n",
    "Re-run the evaluate_postition function if the position changes; you do not need to re-run the previous steps."
   ]
  },
  {
   "cell_type": "code",
   "execution_count": 13,
   "id": "3c388d47",
   "metadata": {
    "scrolled": false
   },
   "outputs": [
    {
     "name": "stdout",
     "output_type": "stream",
     "text": [
      "Time: 1.5966980457305908\n",
      "Best Move: d2d4\n",
      "Evaluation: {'type': 'cp', 'value': 24}\n",
      "Top moves:\n",
      "{'Move': 'd2d4', 'Centipawn': 33, 'Mate': None}\n",
      "{'Move': 'b1c3', 'Centipawn': 27, 'Mate': None}\n",
      "{'Move': 'f1c4', 'Centipawn': 14, 'Mate': None}\n",
      "{'Move': 'a2a3', 'Centipawn': 3, 'Mate': None}\n",
      "{'Move': 'f1b5', 'Centipawn': -2, 'Mate': None}\n"
     ]
    },
    {
     "data": {
      "image/svg+xml": [
       "<svg baseProfile=\"tiny\" height=\"390\" version=\"1.2\" viewBox=\"0 0 390 390\" width=\"390\" xmlns=\"http://www.w3.org/2000/svg\" xmlns:xlink=\"http://www.w3.org/1999/xlink\"><defs><g class=\"white pawn\" id=\"white-pawn\"><path d=\"M22.5 9c-2.21 0-4 1.79-4 4 0 .89.29 1.71.78 2.38C17.33 16.5 16 18.59 16 21c0 2.03.94 3.84 2.41 5.03-3 1.06-7.41 5.55-7.41 13.47h23c0-7.92-4.41-12.41-7.41-13.47 1.47-1.19 2.41-3 2.41-5.03 0-2.41-1.33-4.5-3.28-5.62.49-.67.78-1.49.78-2.38 0-2.21-1.79-4-4-4z\" fill=\"#fff\" stroke=\"#000\" stroke-linecap=\"round\" stroke-width=\"1.5\" /></g><g class=\"white knight\" fill=\"none\" fill-rule=\"evenodd\" id=\"white-knight\" stroke=\"#000\" stroke-linecap=\"round\" stroke-linejoin=\"round\" stroke-width=\"1.5\"><path d=\"M 22,10 C 32.5,11 38.5,18 38,39 L 15,39 C 15,30 25,32.5 23,18\" style=\"fill:#ffffff; stroke:#000000;\" /><path d=\"M 24,18 C 24.38,20.91 18.45,25.37 16,27 C 13,29 13.18,31.34 11,31 C 9.958,30.06 12.41,27.96 11,28 C 10,28 11.19,29.23 10,30 C 9,30 5.997,31 6,26 C 6,24 12,14 12,14 C 12,14 13.89,12.1 14,10.5 C 13.27,9.506 13.5,8.5 13.5,7.5 C 14.5,6.5 16.5,10 16.5,10 L 18.5,10 C 18.5,10 19.28,8.008 21,7 C 22,7 22,10 22,10\" style=\"fill:#ffffff; stroke:#000000;\" /><path d=\"M 9.5 25.5 A 0.5 0.5 0 1 1 8.5,25.5 A 0.5 0.5 0 1 1 9.5 25.5 z\" style=\"fill:#000000; stroke:#000000;\" /><path d=\"M 15 15.5 A 0.5 1.5 0 1 1 14,15.5 A 0.5 1.5 0 1 1 15 15.5 z\" style=\"fill:#000000; stroke:#000000;\" transform=\"matrix(0.866,0.5,-0.5,0.866,9.693,-5.173)\" /></g><g class=\"white bishop\" fill=\"none\" fill-rule=\"evenodd\" id=\"white-bishop\" stroke=\"#000\" stroke-linecap=\"round\" stroke-linejoin=\"round\" stroke-width=\"1.5\"><g fill=\"#fff\" stroke-linecap=\"butt\"><path d=\"M9 36c3.39-.97 10.11.43 13.5-2 3.39 2.43 10.11 1.03 13.5 2 0 0 1.65.54 3 2-.68.97-1.65.99-3 .5-3.39-.97-10.11.46-13.5-1-3.39 1.46-10.11.03-13.5 1-1.354.49-2.323.47-3-.5 1.354-1.94 3-2 3-2zM15 32c2.5 2.5 12.5 2.5 15 0 .5-1.5 0-2 0-2 0-2.5-2.5-4-2.5-4 5.5-1.5 6-11.5-5-15.5-11 4-10.5 14-5 15.5 0 0-2.5 1.5-2.5 4 0 0-.5.5 0 2zM25 8a2.5 2.5 0 1 1-5 0 2.5 2.5 0 1 1 5 0z\" /></g><path d=\"M17.5 26h10M15 30h15m-7.5-14.5v5M20 18h5\" stroke-linejoin=\"miter\" /></g><g class=\"white rook\" fill=\"#fff\" fill-rule=\"evenodd\" id=\"white-rook\" stroke=\"#000\" stroke-linecap=\"round\" stroke-linejoin=\"round\" stroke-width=\"1.5\"><path d=\"M9 39h27v-3H9v3zM12 36v-4h21v4H12zM11 14V9h4v2h5V9h5v2h5V9h4v5\" stroke-linecap=\"butt\" /><path d=\"M34 14l-3 3H14l-3-3\" /><path d=\"M31 17v12.5H14V17\" stroke-linecap=\"butt\" stroke-linejoin=\"miter\" /><path d=\"M31 29.5l1.5 2.5h-20l1.5-2.5\" /><path d=\"M11 14h23\" fill=\"none\" stroke-linejoin=\"miter\" /></g><g class=\"white queen\" fill=\"#fff\" fill-rule=\"evenodd\" id=\"white-queen\" stroke=\"#000\" stroke-linecap=\"round\" stroke-linejoin=\"round\" stroke-width=\"1.5\"><path d=\"M8 12a2 2 0 1 1-4 0 2 2 0 1 1 4 0zM24.5 7.5a2 2 0 1 1-4 0 2 2 0 1 1 4 0zM41 12a2 2 0 1 1-4 0 2 2 0 1 1 4 0zM16 8.5a2 2 0 1 1-4 0 2 2 0 1 1 4 0zM33 9a2 2 0 1 1-4 0 2 2 0 1 1 4 0z\" /><path d=\"M9 26c8.5-1.5 21-1.5 27 0l2-12-7 11V11l-5.5 13.5-3-15-3 15-5.5-14V25L7 14l2 12zM9 26c0 2 1.5 2 2.5 4 1 1.5 1 1 .5 3.5-1.5 1-1.5 2.5-1.5 2.5-1.5 1.5.5 2.5.5 2.5 6.5 1 16.5 1 23 0 0 0 1.5-1 0-2.5 0 0 .5-1.5-1-2.5-.5-2.5-.5-2 .5-3.5 1-2 2.5-2 2.5-4-8.5-1.5-18.5-1.5-27 0z\" stroke-linecap=\"butt\" /><path d=\"M11.5 30c3.5-1 18.5-1 22 0M12 33.5c6-1 15-1 21 0\" fill=\"none\" /></g><g class=\"white king\" fill=\"none\" fill-rule=\"evenodd\" id=\"white-king\" stroke=\"#000\" stroke-linecap=\"round\" stroke-linejoin=\"round\" stroke-width=\"1.5\"><path d=\"M22.5 11.63V6M20 8h5\" stroke-linejoin=\"miter\" /><path d=\"M22.5 25s4.5-7.5 3-10.5c0 0-1-2.5-3-2.5s-3 2.5-3 2.5c-1.5 3 3 10.5 3 10.5\" fill=\"#fff\" stroke-linecap=\"butt\" stroke-linejoin=\"miter\" /><path d=\"M11.5 37c5.5 3.5 15.5 3.5 21 0v-7s9-4.5 6-10.5c-4-6.5-13.5-3.5-16 4V27v-3.5c-3.5-7.5-13-10.5-16-4-3 6 5 10 5 10V37z\" fill=\"#fff\" /><path d=\"M11.5 30c5.5-3 15.5-3 21 0m-21 3.5c5.5-3 15.5-3 21 0m-21 3.5c5.5-3 15.5-3 21 0\" /></g><g class=\"black pawn\" id=\"black-pawn\"><path d=\"M22.5 9c-2.21 0-4 1.79-4 4 0 .89.29 1.71.78 2.38C17.33 16.5 16 18.59 16 21c0 2.03.94 3.84 2.41 5.03-3 1.06-7.41 5.55-7.41 13.47h23c0-7.92-4.41-12.41-7.41-13.47 1.47-1.19 2.41-3 2.41-5.03 0-2.41-1.33-4.5-3.28-5.62.49-.67.78-1.49.78-2.38 0-2.21-1.79-4-4-4z\" stroke=\"#000\" stroke-linecap=\"round\" stroke-width=\"1.5\" /></g><g class=\"black knight\" fill=\"none\" fill-rule=\"evenodd\" id=\"black-knight\" stroke=\"#000\" stroke-linecap=\"round\" stroke-linejoin=\"round\" stroke-width=\"1.5\"><path d=\"M 22,10 C 32.5,11 38.5,18 38,39 L 15,39 C 15,30 25,32.5 23,18\" style=\"fill:#000000; stroke:#000000;\" /><path d=\"M 24,18 C 24.38,20.91 18.45,25.37 16,27 C 13,29 13.18,31.34 11,31 C 9.958,30.06 12.41,27.96 11,28 C 10,28 11.19,29.23 10,30 C 9,30 5.997,31 6,26 C 6,24 12,14 12,14 C 12,14 13.89,12.1 14,10.5 C 13.27,9.506 13.5,8.5 13.5,7.5 C 14.5,6.5 16.5,10 16.5,10 L 18.5,10 C 18.5,10 19.28,8.008 21,7 C 22,7 22,10 22,10\" style=\"fill:#000000; stroke:#000000;\" /><path d=\"M 9.5 25.5 A 0.5 0.5 0 1 1 8.5,25.5 A 0.5 0.5 0 1 1 9.5 25.5 z\" style=\"fill:#ececec; stroke:#ececec;\" /><path d=\"M 15 15.5 A 0.5 1.5 0 1 1 14,15.5 A 0.5 1.5 0 1 1 15 15.5 z\" style=\"fill:#ececec; stroke:#ececec;\" transform=\"matrix(0.866,0.5,-0.5,0.866,9.693,-5.173)\" /><path d=\"M 24.55,10.4 L 24.1,11.85 L 24.6,12 C 27.75,13 30.25,14.49 32.5,18.75 C 34.75,23.01 35.75,29.06 35.25,39 L 35.2,39.5 L 37.45,39.5 L 37.5,39 C 38,28.94 36.62,22.15 34.25,17.66 C 31.88,13.17 28.46,11.02 25.06,10.5 L 24.55,10.4 z \" style=\"fill:#ececec; stroke:none;\" /></g><g class=\"black bishop\" fill=\"none\" fill-rule=\"evenodd\" id=\"black-bishop\" stroke=\"#000\" stroke-linecap=\"round\" stroke-linejoin=\"round\" stroke-width=\"1.5\"><path d=\"M9 36c3.39-.97 10.11.43 13.5-2 3.39 2.43 10.11 1.03 13.5 2 0 0 1.65.54 3 2-.68.97-1.65.99-3 .5-3.39-.97-10.11.46-13.5-1-3.39 1.46-10.11.03-13.5 1-1.354.49-2.323.47-3-.5 1.354-1.94 3-2 3-2zm6-4c2.5 2.5 12.5 2.5 15 0 .5-1.5 0-2 0-2 0-2.5-2.5-4-2.5-4 5.5-1.5 6-11.5-5-15.5-11 4-10.5 14-5 15.5 0 0-2.5 1.5-2.5 4 0 0-.5.5 0 2zM25 8a2.5 2.5 0 1 1-5 0 2.5 2.5 0 1 1 5 0z\" fill=\"#000\" stroke-linecap=\"butt\" /><path d=\"M17.5 26h10M15 30h15m-7.5-14.5v5M20 18h5\" stroke=\"#fff\" stroke-linejoin=\"miter\" /></g><g class=\"black rook\" fill=\"#000\" fill-rule=\"evenodd\" id=\"black-rook\" stroke=\"#000\" stroke-linecap=\"round\" stroke-linejoin=\"round\" stroke-width=\"1.5\"><path d=\"M9 39h27v-3H9v3zM12.5 32l1.5-2.5h17l1.5 2.5h-20zM12 36v-4h21v4H12z\" stroke-linecap=\"butt\" /><path d=\"M14 29.5v-13h17v13H14z\" stroke-linecap=\"butt\" stroke-linejoin=\"miter\" /><path d=\"M14 16.5L11 14h23l-3 2.5H14zM11 14V9h4v2h5V9h5v2h5V9h4v5H11z\" stroke-linecap=\"butt\" /><path d=\"M12 35.5h21M13 31.5h19M14 29.5h17M14 16.5h17M11 14h23\" fill=\"none\" stroke=\"#fff\" stroke-linejoin=\"miter\" stroke-width=\"1\" /></g><g class=\"black queen\" fill=\"#000\" fill-rule=\"evenodd\" id=\"black-queen\" stroke=\"#000\" stroke-linecap=\"round\" stroke-linejoin=\"round\" stroke-width=\"1.5\"><g fill=\"#000\" stroke=\"none\"><circle cx=\"6\" cy=\"12\" r=\"2.75\" /><circle cx=\"14\" cy=\"9\" r=\"2.75\" /><circle cx=\"22.5\" cy=\"8\" r=\"2.75\" /><circle cx=\"31\" cy=\"9\" r=\"2.75\" /><circle cx=\"39\" cy=\"12\" r=\"2.75\" /></g><path d=\"M9 26c8.5-1.5 21-1.5 27 0l2.5-12.5L31 25l-.3-14.1-5.2 13.6-3-14.5-3 14.5-5.2-13.6L14 25 6.5 13.5 9 26zM9 26c0 2 1.5 2 2.5 4 1 1.5 1 1 .5 3.5-1.5 1-1.5 2.5-1.5 2.5-1.5 1.5.5 2.5.5 2.5 6.5 1 16.5 1 23 0 0 0 1.5-1 0-2.5 0 0 .5-1.5-1-2.5-.5-2.5-.5-2 .5-3.5 1-2 2.5-2 2.5-4-8.5-1.5-18.5-1.5-27 0z\" stroke-linecap=\"butt\" /><path d=\"M11 38.5a35 35 1 0 0 23 0\" fill=\"none\" stroke-linecap=\"butt\" /><path d=\"M11 29a35 35 1 0 1 23 0M12.5 31.5h20M11.5 34.5a35 35 1 0 0 22 0M10.5 37.5a35 35 1 0 0 24 0\" fill=\"none\" stroke=\"#fff\" /></g><g class=\"black king\" fill=\"none\" fill-rule=\"evenodd\" id=\"black-king\" stroke=\"#000\" stroke-linecap=\"round\" stroke-linejoin=\"round\" stroke-width=\"1.5\"><path d=\"M22.5 11.63V6\" stroke-linejoin=\"miter\" /><path d=\"M22.5 25s4.5-7.5 3-10.5c0 0-1-2.5-3-2.5s-3 2.5-3 2.5c-1.5 3 3 10.5 3 10.5\" fill=\"#000\" stroke-linecap=\"butt\" stroke-linejoin=\"miter\" /><path d=\"M11.5 37c5.5 3.5 15.5 3.5 21 0v-7s9-4.5 6-10.5c-4-6.5-13.5-3.5-16 4V27v-3.5c-3.5-7.5-13-10.5-16-4-3 6 5 10 5 10V37z\" fill=\"#000\" /><path d=\"M20 8h5\" stroke-linejoin=\"miter\" /><path d=\"M32 29.5s8.5-4 6.03-9.65C34.15 14 25 18 22.5 24.5l.01 2.1-.01-2.1C20 18 9.906 14 6.997 19.85c-2.497 5.65 4.853 9 4.853 9M11.5 30c5.5-3 15.5-3 21 0m-21 3.5c5.5-3 15.5-3 21 0m-21 3.5c5.5-3 15.5-3 21 0\" stroke=\"#fff\" /></g></defs><rect fill=\"#212121\" height=\"390\" width=\"390\" x=\"0\" y=\"0\" /><g fill=\"#e5e5e5\" stroke=\"#e5e5e5\" transform=\"translate(20, 0) scale(0.75, 0.75)\"><path d=\"M23.328 10.016q-1.742 0-2.414.398-.672.398-.672 1.36 0 .765.5 1.218.508.445 1.375.445 1.196 0 1.914-.843.727-.852.727-2.258v-.32zm2.867-.594v4.992h-1.437v-1.328q-.492.797-1.227 1.18-.734.375-1.797.375-1.343 0-2.14-.75-.79-.758-.79-2.024 0-1.476.985-2.226.992-.75 2.953-.75h2.016V8.75q0-.992-.656-1.531-.649-.547-1.829-.547-.75 0-1.46.18-.711.18-1.368.539V6.062q.79-.304 1.532-.453.742-.156 1.445-.156 1.898 0 2.836.984.937.985.937 2.985z\" /></g><g fill=\"#e5e5e5\" stroke=\"#e5e5e5\" transform=\"translate(20, 375) scale(0.75, 0.75)\"><path d=\"M23.328 10.016q-1.742 0-2.414.398-.672.398-.672 1.36 0 .765.5 1.218.508.445 1.375.445 1.196 0 1.914-.843.727-.852.727-2.258v-.32zm2.867-.594v4.992h-1.437v-1.328q-.492.797-1.227 1.18-.734.375-1.797.375-1.343 0-2.14-.75-.79-.758-.79-2.024 0-1.476.985-2.226.992-.75 2.953-.75h2.016V8.75q0-.992-.656-1.531-.649-.547-1.829-.547-.75 0-1.46.18-.711.18-1.368.539V6.062q.79-.304 1.532-.453.742-.156 1.445-.156 1.898 0 2.836.984.937.985.937 2.985z\" /></g><g fill=\"#e5e5e5\" stroke=\"#e5e5e5\" transform=\"translate(65, 0) scale(0.75, 0.75)\"><path d=\"M24.922 10.047q0-1.586-.656-2.485-.649-.906-1.79-.906-1.14 0-1.796.906-.649.899-.649 2.485 0 1.586.649 2.492.656.898 1.797.898 1.14 0 1.789-.898.656-.906.656-2.492zm-4.89-3.055q.452-.781 1.14-1.156.695-.383 1.656-.383 1.594 0 2.586 1.266 1 1.265 1 3.328 0 2.062-1 3.328-.992 1.266-2.586 1.266-.96 0-1.656-.375-.688-.383-1.14-1.164v1.312h-1.446V2.258h1.445z\" /></g><g fill=\"#e5e5e5\" stroke=\"#e5e5e5\" transform=\"translate(65, 375) scale(0.75, 0.75)\"><path d=\"M24.922 10.047q0-1.586-.656-2.485-.649-.906-1.79-.906-1.14 0-1.796.906-.649.899-.649 2.485 0 1.586.649 2.492.656.898 1.797.898 1.14 0 1.789-.898.656-.906.656-2.492zm-4.89-3.055q.452-.781 1.14-1.156.695-.383 1.656-.383 1.594 0 2.586 1.266 1 1.265 1 3.328 0 2.062-1 3.328-.992 1.266-2.586 1.266-.96 0-1.656-.375-.688-.383-1.14-1.164v1.312h-1.446V2.258h1.445z\" /></g><g fill=\"#e5e5e5\" stroke=\"#e5e5e5\" transform=\"translate(110, 0) scale(0.75, 0.75)\"><path d=\"M25.96 6v1.344q-.608-.336-1.226-.5-.609-.172-1.234-.172-1.398 0-2.172.89-.773.883-.773 2.485 0 1.601.773 2.492.774.883 2.172.883.625 0 1.234-.164.618-.172 1.227-.508v1.328q-.602.281-1.25.422-.64.14-1.367.14-1.977 0-3.14-1.242-1.165-1.242-1.165-3.351 0-2.14 1.172-3.367 1.18-1.227 3.227-1.227.664 0 1.296.14.633.134 1.227.407z\" /></g><g fill=\"#e5e5e5\" stroke=\"#e5e5e5\" transform=\"translate(110, 375) scale(0.75, 0.75)\"><path d=\"M25.96 6v1.344q-.608-.336-1.226-.5-.609-.172-1.234-.172-1.398 0-2.172.89-.773.883-.773 2.485 0 1.601.773 2.492.774.883 2.172.883.625 0 1.234-.164.618-.172 1.227-.508v1.328q-.602.281-1.25.422-.64.14-1.367.14-1.977 0-3.14-1.242-1.165-1.242-1.165-3.351 0-2.14 1.172-3.367 1.18-1.227 3.227-1.227.664 0 1.296.14.633.134 1.227.407z\" /></g><g fill=\"#e5e5e5\" stroke=\"#e5e5e5\" transform=\"translate(155, 0) scale(0.75, 0.75)\"><path d=\"M24.973 6.992V2.258h1.437v12.156h-1.437v-1.312q-.453.78-1.149 1.164-.687.375-1.656.375-1.586 0-2.586-1.266-.992-1.266-.992-3.328 0-2.063.992-3.328 1-1.266 2.586-1.266.969 0 1.656.383.696.375 1.149 1.156zm-4.899 3.055q0 1.586.649 2.492.656.898 1.797.898 1.14 0 1.796-.898.657-.906.657-2.492 0-1.586-.657-2.485-.656-.906-1.796-.906-1.141 0-1.797.906-.649.899-.649 2.485z\" /></g><g fill=\"#e5e5e5\" stroke=\"#e5e5e5\" transform=\"translate(155, 375) scale(0.75, 0.75)\"><path d=\"M24.973 6.992V2.258h1.437v12.156h-1.437v-1.312q-.453.78-1.149 1.164-.687.375-1.656.375-1.586 0-2.586-1.266-.992-1.266-.992-3.328 0-2.063.992-3.328 1-1.266 2.586-1.266.969 0 1.656.383.696.375 1.149 1.156zm-4.899 3.055q0 1.586.649 2.492.656.898 1.797.898 1.14 0 1.796-.898.657-.906.657-2.492 0-1.586-.657-2.485-.656-.906-1.796-.906-1.141 0-1.797.906-.649.899-.649 2.485z\" /></g><g fill=\"#e5e5e5\" stroke=\"#e5e5e5\" transform=\"translate(200, 0) scale(0.75, 0.75)\"><path d=\"M26.555 9.68v.703h-6.61q.094 1.484.89 2.265.806.774 2.235.774.828 0 1.602-.203.781-.203 1.547-.61v1.36q-.774.328-1.586.5-.813.172-1.649.172-2.093 0-3.32-1.22-1.219-1.218-1.219-3.296 0-2.148 1.157-3.406 1.164-1.266 3.132-1.266 1.766 0 2.79 1.14 1.03 1.134 1.03 3.087zm-1.438-.422q-.015-1.18-.664-1.883-.64-.703-1.703-.703-1.203 0-1.93.68-.718.68-.828 1.914z\" /></g><g fill=\"#e5e5e5\" stroke=\"#e5e5e5\" transform=\"translate(200, 375) scale(0.75, 0.75)\"><path d=\"M26.555 9.68v.703h-6.61q.094 1.484.89 2.265.806.774 2.235.774.828 0 1.602-.203.781-.203 1.547-.61v1.36q-.774.328-1.586.5-.813.172-1.649.172-2.093 0-3.32-1.22-1.219-1.218-1.219-3.296 0-2.148 1.157-3.406 1.164-1.266 3.132-1.266 1.766 0 2.79 1.14 1.03 1.134 1.03 3.087zm-1.438-.422q-.015-1.18-.664-1.883-.64-.703-1.703-.703-1.203 0-1.93.68-.718.68-.828 1.914z\" /></g><g fill=\"#e5e5e5\" stroke=\"#e5e5e5\" transform=\"translate(245, 0) scale(0.75, 0.75)\"><path d=\"M25.285 2.258v1.195H23.91q-.773 0-1.078.313-.297.312-.297 1.125v.773h2.367v1.117h-2.367v7.633H21.09V6.781h-1.375V5.664h1.375v-.61q0-1.46.68-2.124.68-.672 2.156-.672z\" /></g><g fill=\"#e5e5e5\" stroke=\"#e5e5e5\" transform=\"translate(245, 375) scale(0.75, 0.75)\"><path d=\"M25.285 2.258v1.195H23.91q-.773 0-1.078.313-.297.312-.297 1.125v.773h2.367v1.117h-2.367v7.633H21.09V6.781h-1.375V5.664h1.375v-.61q0-1.46.68-2.124.68-.672 2.156-.672z\" /></g><g fill=\"#e5e5e5\" stroke=\"#e5e5e5\" transform=\"translate(290, 0) scale(0.75, 0.75)\"><path d=\"M24.973 9.937q0-1.562-.649-2.421-.64-.86-1.804-.86-1.157 0-1.805.86-.64.859-.64 2.421 0 1.555.64 2.415.648.859 1.805.859 1.164 0 1.804-.86.649-.859.649-2.414zm1.437 3.391q0 2.234-.992 3.32-.992 1.094-3.04 1.094-.757 0-1.429-.117-.672-.11-1.304-.344v-1.398q.632.344 1.25.508.617.164 1.257.164 1.414 0 2.118-.743.703-.734.703-2.226v-.711q-.446.773-1.141 1.156-.695.383-1.664.383-1.61 0-2.594-1.227-.984-1.226-.984-3.25 0-2.03.984-3.257.985-1.227 2.594-1.227.969 0 1.664.383t1.14 1.156V5.664h1.438z\" /></g><g fill=\"#e5e5e5\" stroke=\"#e5e5e5\" transform=\"translate(290, 375) scale(0.75, 0.75)\"><path d=\"M24.973 9.937q0-1.562-.649-2.421-.64-.86-1.804-.86-1.157 0-1.805.86-.64.859-.64 2.421 0 1.555.64 2.415.648.859 1.805.859 1.164 0 1.804-.86.649-.859.649-2.414zm1.437 3.391q0 2.234-.992 3.32-.992 1.094-3.04 1.094-.757 0-1.429-.117-.672-.11-1.304-.344v-1.398q.632.344 1.25.508.617.164 1.257.164 1.414 0 2.118-.743.703-.734.703-2.226v-.711q-.446.773-1.141 1.156-.695.383-1.664.383-1.61 0-2.594-1.227-.984-1.226-.984-3.25 0-2.03.984-3.257.985-1.227 2.594-1.227.969 0 1.664.383t1.14 1.156V5.664h1.438z\" /></g><g fill=\"#e5e5e5\" stroke=\"#e5e5e5\" transform=\"translate(335, 0) scale(0.75, 0.75)\"><path d=\"M26.164 9.133v5.281h-1.437V9.18q0-1.243-.485-1.86-.484-.617-1.453-.617-1.164 0-1.836.742-.672.742-.672 2.024v4.945h-1.445V2.258h1.445v4.765q.516-.789 1.211-1.18.703-.39 1.617-.39 1.508 0 2.282.938.773.93.773 2.742z\" /></g><g fill=\"#e5e5e5\" stroke=\"#e5e5e5\" transform=\"translate(335, 375) scale(0.75, 0.75)\"><path d=\"M26.164 9.133v5.281h-1.437V9.18q0-1.243-.485-1.86-.484-.617-1.453-.617-1.164 0-1.836.742-.672.742-.672 2.024v4.945h-1.445V2.258h1.445v4.765q.516-.789 1.211-1.18.703-.39 1.617-.39 1.508 0 2.282.938.773.93.773 2.742z\" /></g><g fill=\"#e5e5e5\" stroke=\"#e5e5e5\" transform=\"translate(0, 335) scale(0.75, 0.75)\"><path d=\"M6.754 26.996h2.578v-8.898l-2.805.562v-1.437l2.79-.563h1.578v10.336h2.578v1.328h-6.72z\" /></g><g fill=\"#e5e5e5\" stroke=\"#e5e5e5\" transform=\"translate(375, 335) scale(0.75, 0.75)\"><path d=\"M6.754 26.996h2.578v-8.898l-2.805.562v-1.437l2.79-.563h1.578v10.336h2.578v1.328h-6.72z\" /></g><g fill=\"#e5e5e5\" stroke=\"#e5e5e5\" transform=\"translate(0, 290) scale(0.75, 0.75)\"><path d=\"M8.195 26.996h5.508v1.328H6.297v-1.328q.898-.93 2.445-2.492 1.555-1.57 1.953-2.024.758-.851 1.055-1.437.305-.594.305-1.164 0-.93-.657-1.516-.648-.586-1.695-.586-.742 0-1.57.258-.82.258-1.758.781v-1.593q.953-.383 1.781-.578.828-.196 1.516-.196 1.812 0 2.89.906 1.079.907 1.079 2.422 0 .72-.274 1.368-.265.64-.976 1.515-.196.227-1.243 1.313-1.046 1.078-2.953 3.023z\" /></g><g fill=\"#e5e5e5\" stroke=\"#e5e5e5\" transform=\"translate(375, 290) scale(0.75, 0.75)\"><path d=\"M8.195 26.996h5.508v1.328H6.297v-1.328q.898-.93 2.445-2.492 1.555-1.57 1.953-2.024.758-.851 1.055-1.437.305-.594.305-1.164 0-.93-.657-1.516-.648-.586-1.695-.586-.742 0-1.57.258-.82.258-1.758.781v-1.593q.953-.383 1.781-.578.828-.196 1.516-.196 1.812 0 2.89.906 1.079.907 1.079 2.422 0 .72-.274 1.368-.265.64-.976 1.515-.196.227-1.243 1.313-1.046 1.078-2.953 3.023z\" /></g><g fill=\"#e5e5e5\" stroke=\"#e5e5e5\" transform=\"translate(0, 245) scale(0.75, 0.75)\"><path d=\"M11.434 22.035q1.132.242 1.765 1.008.64.766.64 1.89 0 1.727-1.187 2.672-1.187.946-3.375.946-.734 0-1.515-.149-.774-.14-1.602-.43V26.45q.656.383 1.438.578.78.196 1.632.196 1.485 0 2.258-.586.782-.586.782-1.703 0-1.032-.727-1.61-.719-.586-2.008-.586h-1.36v-1.297h1.423q1.164 0 1.78-.46.618-.47.618-1.344 0-.899-.64-1.375-.633-.485-1.82-.485-.65 0-1.391.141-.743.14-1.633.437V16.95q.898-.25 1.68-.375.788-.125 1.484-.125 1.797 0 2.844.82 1.046.813 1.046 2.204 0 .968-.554 1.64-.555.664-1.578.922z\" /></g><g fill=\"#e5e5e5\" stroke=\"#e5e5e5\" transform=\"translate(375, 245) scale(0.75, 0.75)\"><path d=\"M11.434 22.035q1.132.242 1.765 1.008.64.766.64 1.89 0 1.727-1.187 2.672-1.187.946-3.375.946-.734 0-1.515-.149-.774-.14-1.602-.43V26.45q.656.383 1.438.578.78.196 1.632.196 1.485 0 2.258-.586.782-.586.782-1.703 0-1.032-.727-1.61-.719-.586-2.008-.586h-1.36v-1.297h1.423q1.164 0 1.78-.46.618-.47.618-1.344 0-.899-.64-1.375-.633-.485-1.82-.485-.65 0-1.391.141-.743.14-1.633.437V16.95q.898-.25 1.68-.375.788-.125 1.484-.125 1.797 0 2.844.82 1.046.813 1.046 2.204 0 .968-.554 1.64-.555.664-1.578.922z\" /></g><g fill=\"#e5e5e5\" stroke=\"#e5e5e5\" transform=\"translate(0, 200) scale(0.75, 0.75)\"><path d=\"M11.016 18.035L7.03 24.262h3.985zm-.414-1.375h1.984v7.602h1.664v1.312h-1.664v2.75h-1.57v-2.75H5.75v-1.523z\" /></g><g fill=\"#e5e5e5\" stroke=\"#e5e5e5\" transform=\"translate(375, 200) scale(0.75, 0.75)\"><path d=\"M11.016 18.035L7.03 24.262h3.985zm-.414-1.375h1.984v7.602h1.664v1.312h-1.664v2.75h-1.57v-2.75H5.75v-1.523z\" /></g><g fill=\"#e5e5e5\" stroke=\"#e5e5e5\" transform=\"translate(0, 155) scale(0.75, 0.75)\"><path d=\"M6.719 16.66h6.195v1.328h-4.75v2.86q.344-.118.688-.172.343-.063.687-.063 1.953 0 3.094 1.07 1.14 1.07 1.14 2.899 0 1.883-1.171 2.93-1.172 1.039-3.305 1.039-.735 0-1.5-.125-.758-.125-1.57-.375v-1.586q.703.383 1.453.57.75.188 1.586.188 1.351 0 2.14-.711.79-.711.79-1.93 0-1.219-.79-1.93-.789-.71-2.14-.71-.633 0-1.266.14-.625.14-1.281.438z\" /></g><g fill=\"#e5e5e5\" stroke=\"#e5e5e5\" transform=\"translate(375, 155) scale(0.75, 0.75)\"><path d=\"M6.719 16.66h6.195v1.328h-4.75v2.86q.344-.118.688-.172.343-.063.687-.063 1.953 0 3.094 1.07 1.14 1.07 1.14 2.899 0 1.883-1.171 2.93-1.172 1.039-3.305 1.039-.735 0-1.5-.125-.758-.125-1.57-.375v-1.586q.703.383 1.453.57.75.188 1.586.188 1.351 0 2.14-.711.79-.711.79-1.93 0-1.219-.79-1.93-.789-.71-2.14-.71-.633 0-1.266.14-.625.14-1.281.438z\" /></g><g fill=\"#e5e5e5\" stroke=\"#e5e5e5\" transform=\"translate(0, 110) scale(0.75, 0.75)\"><path d=\"M10.137 21.863q-1.063 0-1.688.727-.617.726-.617 1.992 0 1.258.617 1.992.625.727 1.688.727 1.062 0 1.68-.727.624-.734.624-1.992 0-1.266-.625-1.992-.617-.727-1.68-.727zm3.133-4.945v1.437q-.594-.28-1.204-.43-.601-.148-1.195-.148-1.562 0-2.39 1.055-.82 1.055-.938 3.188.46-.68 1.156-1.04.696-.367 1.531-.367 1.758 0 2.774 1.07 1.023 1.063 1.023 2.899 0 1.797-1.062 2.883-1.063 1.086-2.828 1.086-2.024 0-3.094-1.547-1.07-1.555-1.07-4.5 0-2.766 1.312-4.406 1.313-1.649 3.524-1.649.593 0 1.195.117.61.118 1.266.352z\" /></g><g fill=\"#e5e5e5\" stroke=\"#e5e5e5\" transform=\"translate(375, 110) scale(0.75, 0.75)\"><path d=\"M10.137 21.863q-1.063 0-1.688.727-.617.726-.617 1.992 0 1.258.617 1.992.625.727 1.688.727 1.062 0 1.68-.727.624-.734.624-1.992 0-1.266-.625-1.992-.617-.727-1.68-.727zm3.133-4.945v1.437q-.594-.28-1.204-.43-.601-.148-1.195-.148-1.562 0-2.39 1.055-.82 1.055-.938 3.188.46-.68 1.156-1.04.696-.367 1.531-.367 1.758 0 2.774 1.07 1.023 1.063 1.023 2.899 0 1.797-1.062 2.883-1.063 1.086-2.828 1.086-2.024 0-3.094-1.547-1.07-1.555-1.07-4.5 0-2.766 1.312-4.406 1.313-1.649 3.524-1.649.593 0 1.195.117.61.118 1.266.352z\" /></g><g fill=\"#e5e5e5\" stroke=\"#e5e5e5\" transform=\"translate(0, 65) scale(0.75, 0.75)\"><path d=\"M6.25 16.66h7.5v.672L9.516 28.324H7.867l3.985-10.336H6.25z\" /></g><g fill=\"#e5e5e5\" stroke=\"#e5e5e5\" transform=\"translate(375, 65) scale(0.75, 0.75)\"><path d=\"M6.25 16.66h7.5v.672L9.516 28.324H7.867l3.985-10.336H6.25z\" /></g><g fill=\"#e5e5e5\" stroke=\"#e5e5e5\" transform=\"translate(0, 20) scale(0.75, 0.75)\"><path d=\"M10 22.785q-1.125 0-1.773.602-.641.601-.641 1.656t.64 1.656q.649.602 1.774.602t1.773-.602q.649-.61.649-1.656 0-1.055-.649-1.656-.64-.602-1.773-.602zm-1.578-.672q-1.016-.25-1.586-.945-.563-.695-.563-1.695 0-1.399.993-2.211 1-.813 2.734-.813 1.742 0 2.734.813.993.812.993 2.21 0 1-.57 1.696-.563.695-1.571.945 1.14.266 1.773 1.04.641.773.641 1.89 0 1.695-1.04 2.602-1.03.906-2.96.906t-2.969-.906Q6 26.738 6 25.043q0-1.117.64-1.89.641-.774 1.782-1.04zm-.578-2.492q0 .906.562 1.414.57.508 1.594.508 1.016 0 1.586-.508.578-.508.578-1.414 0-.906-.578-1.414-.57-.508-1.586-.508-1.023 0-1.594.508-.562.508-.562 1.414z\" /></g><g fill=\"#e5e5e5\" stroke=\"#e5e5e5\" transform=\"translate(375, 20) scale(0.75, 0.75)\"><path d=\"M10 22.785q-1.125 0-1.773.602-.641.601-.641 1.656t.64 1.656q.649.602 1.774.602t1.773-.602q.649-.61.649-1.656 0-1.055-.649-1.656-.64-.602-1.773-.602zm-1.578-.672q-1.016-.25-1.586-.945-.563-.695-.563-1.695 0-1.399.993-2.211 1-.813 2.734-.813 1.742 0 2.734.813.993.812.993 2.21 0 1-.57 1.696-.563.695-1.571.945 1.14.266 1.773 1.04.641.773.641 1.89 0 1.695-1.04 2.602-1.03.906-2.96.906t-2.969-.906Q6 26.738 6 25.043q0-1.117.64-1.89.641-.774 1.782-1.04zm-.578-2.492q0 .906.562 1.414.57.508 1.594.508 1.016 0 1.586-.508.578-.508.578-1.414 0-.906-.578-1.414-.57-.508-1.586-.508-1.023 0-1.594.508-.562.508-.562 1.414z\" /></g><rect class=\"square dark a1\" fill=\"#d18b47\" height=\"45\" stroke=\"none\" width=\"45\" x=\"15\" y=\"330\" /><rect class=\"square light b1\" fill=\"#ffce9e\" height=\"45\" stroke=\"none\" width=\"45\" x=\"60\" y=\"330\" /><rect class=\"square dark c1\" fill=\"#d18b47\" height=\"45\" stroke=\"none\" width=\"45\" x=\"105\" y=\"330\" /><rect class=\"square light d1\" fill=\"#ffce9e\" height=\"45\" stroke=\"none\" width=\"45\" x=\"150\" y=\"330\" /><rect class=\"square dark e1\" fill=\"#d18b47\" height=\"45\" stroke=\"none\" width=\"45\" x=\"195\" y=\"330\" /><rect class=\"square light f1\" fill=\"#ffce9e\" height=\"45\" stroke=\"none\" width=\"45\" x=\"240\" y=\"330\" /><rect class=\"square dark g1\" fill=\"#d18b47\" height=\"45\" stroke=\"none\" width=\"45\" x=\"285\" y=\"330\" /><rect class=\"square light h1\" fill=\"#ffce9e\" height=\"45\" stroke=\"none\" width=\"45\" x=\"330\" y=\"330\" /><rect class=\"square light a2\" fill=\"#ffce9e\" height=\"45\" stroke=\"none\" width=\"45\" x=\"15\" y=\"285\" /><rect class=\"square dark b2\" fill=\"#d18b47\" height=\"45\" stroke=\"none\" width=\"45\" x=\"60\" y=\"285\" /><rect class=\"square light c2\" fill=\"#ffce9e\" height=\"45\" stroke=\"none\" width=\"45\" x=\"105\" y=\"285\" /><rect class=\"square dark lastmove d2\" fill=\"#aaa23b\" height=\"45\" stroke=\"none\" width=\"45\" x=\"150\" y=\"285\" /><rect class=\"square light e2\" fill=\"#ffce9e\" height=\"45\" stroke=\"none\" width=\"45\" x=\"195\" y=\"285\" /><rect class=\"square dark f2\" fill=\"#d18b47\" height=\"45\" stroke=\"none\" width=\"45\" x=\"240\" y=\"285\" /><rect class=\"square light g2\" fill=\"#ffce9e\" height=\"45\" stroke=\"none\" width=\"45\" x=\"285\" y=\"285\" /><rect class=\"square dark h2\" fill=\"#d18b47\" height=\"45\" stroke=\"none\" width=\"45\" x=\"330\" y=\"285\" /><rect class=\"square dark a3\" fill=\"#d18b47\" height=\"45\" stroke=\"none\" width=\"45\" x=\"15\" y=\"240\" /><rect class=\"square light b3\" fill=\"#ffce9e\" height=\"45\" stroke=\"none\" width=\"45\" x=\"60\" y=\"240\" /><rect class=\"square dark c3\" fill=\"#d18b47\" height=\"45\" stroke=\"none\" width=\"45\" x=\"105\" y=\"240\" /><rect class=\"square light d3\" fill=\"#ffce9e\" height=\"45\" stroke=\"none\" width=\"45\" x=\"150\" y=\"240\" /><rect class=\"square dark e3\" fill=\"#d18b47\" height=\"45\" stroke=\"none\" width=\"45\" x=\"195\" y=\"240\" /><rect class=\"square light f3\" fill=\"#ffce9e\" height=\"45\" stroke=\"none\" width=\"45\" x=\"240\" y=\"240\" /><rect class=\"square dark g3\" fill=\"#d18b47\" height=\"45\" stroke=\"none\" width=\"45\" x=\"285\" y=\"240\" /><rect class=\"square light h3\" fill=\"#ffce9e\" height=\"45\" stroke=\"none\" width=\"45\" x=\"330\" y=\"240\" /><rect class=\"square light a4\" fill=\"#ffce9e\" height=\"45\" stroke=\"none\" width=\"45\" x=\"15\" y=\"195\" /><rect class=\"square dark b4\" fill=\"#d18b47\" height=\"45\" stroke=\"none\" width=\"45\" x=\"60\" y=\"195\" /><rect class=\"square light c4\" fill=\"#ffce9e\" height=\"45\" stroke=\"none\" width=\"45\" x=\"105\" y=\"195\" /><rect class=\"square dark lastmove d4\" fill=\"#aaa23b\" height=\"45\" stroke=\"none\" width=\"45\" x=\"150\" y=\"195\" /><rect class=\"square light e4\" fill=\"#ffce9e\" height=\"45\" stroke=\"none\" width=\"45\" x=\"195\" y=\"195\" /><rect class=\"square dark f4\" fill=\"#d18b47\" height=\"45\" stroke=\"none\" width=\"45\" x=\"240\" y=\"195\" /><rect class=\"square light g4\" fill=\"#ffce9e\" height=\"45\" stroke=\"none\" width=\"45\" x=\"285\" y=\"195\" /><rect class=\"square dark h4\" fill=\"#d18b47\" height=\"45\" stroke=\"none\" width=\"45\" x=\"330\" y=\"195\" /><rect class=\"square dark a5\" fill=\"#d18b47\" height=\"45\" stroke=\"none\" width=\"45\" x=\"15\" y=\"150\" /><rect class=\"square light b5\" fill=\"#ffce9e\" height=\"45\" stroke=\"none\" width=\"45\" x=\"60\" y=\"150\" /><rect class=\"square dark c5\" fill=\"#d18b47\" height=\"45\" stroke=\"none\" width=\"45\" x=\"105\" y=\"150\" /><rect class=\"square light d5\" fill=\"#ffce9e\" height=\"45\" stroke=\"none\" width=\"45\" x=\"150\" y=\"150\" /><rect class=\"square dark e5\" fill=\"#d18b47\" height=\"45\" stroke=\"none\" width=\"45\" x=\"195\" y=\"150\" /><rect class=\"square light f5\" fill=\"#ffce9e\" height=\"45\" stroke=\"none\" width=\"45\" x=\"240\" y=\"150\" /><rect class=\"square dark g5\" fill=\"#d18b47\" height=\"45\" stroke=\"none\" width=\"45\" x=\"285\" y=\"150\" /><rect class=\"square light h5\" fill=\"#ffce9e\" height=\"45\" stroke=\"none\" width=\"45\" x=\"330\" y=\"150\" /><rect class=\"square light a6\" fill=\"#ffce9e\" height=\"45\" stroke=\"none\" width=\"45\" x=\"15\" y=\"105\" /><rect class=\"square dark b6\" fill=\"#d18b47\" height=\"45\" stroke=\"none\" width=\"45\" x=\"60\" y=\"105\" /><rect class=\"square light c6\" fill=\"#ffce9e\" height=\"45\" stroke=\"none\" width=\"45\" x=\"105\" y=\"105\" /><rect class=\"square dark d6\" fill=\"#d18b47\" height=\"45\" stroke=\"none\" width=\"45\" x=\"150\" y=\"105\" /><rect class=\"square light e6\" fill=\"#ffce9e\" height=\"45\" stroke=\"none\" width=\"45\" x=\"195\" y=\"105\" /><rect class=\"square dark f6\" fill=\"#d18b47\" height=\"45\" stroke=\"none\" width=\"45\" x=\"240\" y=\"105\" /><rect class=\"square light g6\" fill=\"#ffce9e\" height=\"45\" stroke=\"none\" width=\"45\" x=\"285\" y=\"105\" /><rect class=\"square dark h6\" fill=\"#d18b47\" height=\"45\" stroke=\"none\" width=\"45\" x=\"330\" y=\"105\" /><rect class=\"square dark a7\" fill=\"#d18b47\" height=\"45\" stroke=\"none\" width=\"45\" x=\"15\" y=\"60\" /><rect class=\"square light b7\" fill=\"#ffce9e\" height=\"45\" stroke=\"none\" width=\"45\" x=\"60\" y=\"60\" /><rect class=\"square dark c7\" fill=\"#d18b47\" height=\"45\" stroke=\"none\" width=\"45\" x=\"105\" y=\"60\" /><rect class=\"square light d7\" fill=\"#ffce9e\" height=\"45\" stroke=\"none\" width=\"45\" x=\"150\" y=\"60\" /><rect class=\"square dark e7\" fill=\"#d18b47\" height=\"45\" stroke=\"none\" width=\"45\" x=\"195\" y=\"60\" /><rect class=\"square light f7\" fill=\"#ffce9e\" height=\"45\" stroke=\"none\" width=\"45\" x=\"240\" y=\"60\" /><rect class=\"square dark g7\" fill=\"#d18b47\" height=\"45\" stroke=\"none\" width=\"45\" x=\"285\" y=\"60\" /><rect class=\"square light h7\" fill=\"#ffce9e\" height=\"45\" stroke=\"none\" width=\"45\" x=\"330\" y=\"60\" /><rect class=\"square light a8\" fill=\"#ffce9e\" height=\"45\" stroke=\"none\" width=\"45\" x=\"15\" y=\"15\" /><rect class=\"square dark b8\" fill=\"#d18b47\" height=\"45\" stroke=\"none\" width=\"45\" x=\"60\" y=\"15\" /><rect class=\"square light c8\" fill=\"#ffce9e\" height=\"45\" stroke=\"none\" width=\"45\" x=\"105\" y=\"15\" /><rect class=\"square dark d8\" fill=\"#d18b47\" height=\"45\" stroke=\"none\" width=\"45\" x=\"150\" y=\"15\" /><rect class=\"square light e8\" fill=\"#ffce9e\" height=\"45\" stroke=\"none\" width=\"45\" x=\"195\" y=\"15\" /><rect class=\"square dark f8\" fill=\"#d18b47\" height=\"45\" stroke=\"none\" width=\"45\" x=\"240\" y=\"15\" /><rect class=\"square light g8\" fill=\"#ffce9e\" height=\"45\" stroke=\"none\" width=\"45\" x=\"285\" y=\"15\" /><rect class=\"square dark h8\" fill=\"#d18b47\" height=\"45\" stroke=\"none\" width=\"45\" x=\"330\" y=\"15\" /><use href=\"#white-rook\" transform=\"translate(15, 330)\" xlink:href=\"#white-rook\" /><use href=\"#white-knight\" transform=\"translate(60, 330)\" xlink:href=\"#white-knight\" /><use href=\"#white-bishop\" transform=\"translate(105, 330)\" xlink:href=\"#white-bishop\" /><use href=\"#white-queen\" transform=\"translate(150, 330)\" xlink:href=\"#white-queen\" /><use href=\"#white-king\" transform=\"translate(195, 330)\" xlink:href=\"#white-king\" /><use href=\"#white-bishop\" transform=\"translate(240, 330)\" xlink:href=\"#white-bishop\" /><use href=\"#white-rook\" transform=\"translate(330, 330)\" xlink:href=\"#white-rook\" /><use href=\"#white-pawn\" transform=\"translate(15, 285)\" xlink:href=\"#white-pawn\" /><use href=\"#white-pawn\" transform=\"translate(60, 285)\" xlink:href=\"#white-pawn\" /><use href=\"#white-pawn\" transform=\"translate(105, 285)\" xlink:href=\"#white-pawn\" /><use href=\"#white-pawn\" transform=\"translate(240, 285)\" xlink:href=\"#white-pawn\" /><use href=\"#white-pawn\" transform=\"translate(285, 285)\" xlink:href=\"#white-pawn\" /><use href=\"#white-pawn\" transform=\"translate(330, 285)\" xlink:href=\"#white-pawn\" /><use href=\"#white-knight\" transform=\"translate(240, 240)\" xlink:href=\"#white-knight\" /><use href=\"#white-pawn\" transform=\"translate(150, 195)\" xlink:href=\"#white-pawn\" /><use href=\"#white-pawn\" transform=\"translate(195, 195)\" xlink:href=\"#white-pawn\" /><use href=\"#black-pawn\" transform=\"translate(195, 150)\" xlink:href=\"#black-pawn\" /><use href=\"#black-knight\" transform=\"translate(105, 105)\" xlink:href=\"#black-knight\" /><use href=\"#black-pawn\" transform=\"translate(15, 60)\" xlink:href=\"#black-pawn\" /><use href=\"#black-pawn\" transform=\"translate(60, 60)\" xlink:href=\"#black-pawn\" /><use href=\"#black-pawn\" transform=\"translate(105, 60)\" xlink:href=\"#black-pawn\" /><use href=\"#black-pawn\" transform=\"translate(150, 60)\" xlink:href=\"#black-pawn\" /><use href=\"#black-pawn\" transform=\"translate(240, 60)\" xlink:href=\"#black-pawn\" /><use href=\"#black-pawn\" transform=\"translate(285, 60)\" xlink:href=\"#black-pawn\" /><use href=\"#black-pawn\" transform=\"translate(330, 60)\" xlink:href=\"#black-pawn\" /><use href=\"#black-rook\" transform=\"translate(15, 15)\" xlink:href=\"#black-rook\" /><use href=\"#black-bishop\" transform=\"translate(105, 15)\" xlink:href=\"#black-bishop\" /><use href=\"#black-queen\" transform=\"translate(150, 15)\" xlink:href=\"#black-queen\" /><use href=\"#black-king\" transform=\"translate(195, 15)\" xlink:href=\"#black-king\" /><use href=\"#black-bishop\" transform=\"translate(240, 15)\" xlink:href=\"#black-bishop\" /><use href=\"#black-knight\" transform=\"translate(285, 15)\" xlink:href=\"#black-knight\" /><use href=\"#black-rook\" transform=\"translate(330, 15)\" xlink:href=\"#black-rook\" /></svg>"
      ],
      "text/plain": [
       "Board('r1bqkbnr/pppp1ppp/2n5/4p3/3PP3/5N2/PPP2PPP/RNBQKB1R b - - 0 1')"
      ]
     },
     "metadata": {},
     "output_type": "display_data"
    }
   ],
   "source": [
    "evaluate_position(white_turn=True)"
   ]
  },
  {
   "cell_type": "code",
   "execution_count": null,
   "id": "7028f9d2",
   "metadata": {},
   "outputs": [],
   "source": [
    "evaluate_position(white_turn=False)"
   ]
  }
 ],
 "metadata": {
  "kernelspec": {
   "display_name": "Python 3 (ipykernel)",
   "language": "python",
   "name": "python3"
  },
  "language_info": {
   "codemirror_mode": {
    "name": "ipython",
    "version": 3
   },
   "file_extension": ".py",
   "mimetype": "text/x-python",
   "name": "python",
   "nbconvert_exporter": "python",
   "pygments_lexer": "ipython3",
   "version": "3.7.11"
  }
 },
 "nbformat": 4,
 "nbformat_minor": 5
}
